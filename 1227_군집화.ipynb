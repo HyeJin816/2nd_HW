{
 "cells": [
  {
   "cell_type": "markdown",
   "metadata": {
    "id": "c1FcvJ0YgJin"
   },
   "source": [
    "# **kMeans 알고리즘을 적용하여 확인적 군집분석을 수행하시오.**\n",
    ">변수 설명 ) tot_price : 총구매액, buy_count : 구매횟수, \n",
    "                   visit_count : 매장방문횟수, avg_price : 평균구매액"
   ]
  },
  {
   "cell_type": "code",
   "execution_count": 1,
   "metadata": {
    "id": "e0Bt7MHIgK_P"
   },
   "outputs": [],
   "source": [
    "#필요한 모듈 불러오기\n",
    "import pandas as pd\n",
    "from sklearn.cluster import KMeans \n",
    "import matplotlib.pyplot as plt\n",
    "from sklearn.decomposition import PCA\n",
    "from sklearn.metrics import silhouette_samples, silhouette_score"
   ]
  },
  {
   "cell_type": "markdown",
   "metadata": {
    "id": "CwK2SgWXgTO5"
   },
   "source": [
    "## 1) 데이터 불러오기 및 탐색"
   ]
  },
  {
   "cell_type": "code",
   "execution_count": 2,
   "metadata": {
    "executionInfo": {
     "elapsed": 19,
     "status": "ok",
     "timestamp": 1629652906963,
     "user": {
      "displayName": "­정서우(자연과학대학 통계학과)",
      "photoUrl": "",
      "userId": "08205341741282440459"
     },
     "user_tz": -540
    },
    "id": "QCwXOdIygPKf"
   },
   "outputs": [
    {
     "name": "stdout",
     "output_type": "stream",
     "text": [
      "<class 'pandas.core.frame.DataFrame'>\n",
      "RangeIndex: 150 entries, 0 to 149\n",
      "Data columns (total 4 columns):\n",
      "tot_price      150 non-null float64\n",
      "visit_count    150 non-null float64\n",
      "buy_count      150 non-null float64\n",
      "avg_price      150 non-null float64\n",
      "dtypes: float64(4)\n",
      "memory usage: 4.8 KB\n",
      "None\n"
     ]
    }
   ],
   "source": [
    "sales = pd.read_csv(\"product_sales.csv\")\n",
    "print(sales.info())"
   ]
  },
  {
   "cell_type": "code",
   "execution_count": 3,
   "metadata": {
    "executionInfo": {
     "elapsed": 17,
     "status": "ok",
     "timestamp": 1629652906967,
     "user": {
      "displayName": "­정서우(자연과학대학 통계학과)",
      "photoUrl": "",
      "userId": "08205341741282440459"
     },
     "user_tz": -540
    },
    "id": "PRs1pZdAgfcb"
   },
   "outputs": [
    {
     "name": "stdout",
     "output_type": "stream",
     "text": [
      "(150, 4)\n",
      "<class 'pandas.core.frame.DataFrame'>\n"
     ]
    }
   ],
   "source": [
    "print(sales.shape) \n",
    "print(type(sales))"
   ]
  },
  {
   "cell_type": "markdown",
   "metadata": {
    "id": "YfG1wuHTgpRG"
   },
   "source": [
    "# 2) KMeans 를 이용하여 3개의 군집으로 군집화"
   ]
  },
  {
   "cell_type": "markdown",
   "metadata": {
    "id": "lImpKmE_homZ"
   },
   "source": [
    "2-1) KMeans 모델을 생성하세요. 군집은 3개로 군집화하세요."
   ]
  },
  {
   "cell_type": "code",
   "execution_count": 5,
   "metadata": {
    "id": "icgsSQ3Zgi_9"
   },
   "outputs": [],
   "source": [
    "#모델 생성\n",
    "kmeans = KMeans(n_clusters=3, init='k-means++', max_iter=300, random_state=0)"
   ]
  },
  {
   "cell_type": "markdown",
   "metadata": {
    "id": "2OIP8gnyhxia"
   },
   "source": [
    "2-2) 모델을 훈련하고 예측치 생성하고 이 결과를 pred라는 변수에 저장하세요."
   ]
  },
  {
   "cell_type": "code",
   "execution_count": 6,
   "metadata": {
    "executionInfo": {
     "elapsed": 461,
     "status": "ok",
     "timestamp": 1629652922398,
     "user": {
      "displayName": "­정서우(자연과학대학 통계학과)",
      "photoUrl": "",
      "userId": "08205341741282440459"
     },
     "user_tz": -540
    },
    "id": "ebGU3AJyhWCn"
   },
   "outputs": [],
   "source": [
    "pred = kmeans.fit(sales)"
   ]
  },
  {
   "cell_type": "markdown",
   "metadata": {
    "id": "Vs2umEnah6MX"
   },
   "source": [
    "2-3) 원형 데이터(scale)에 예측치(변수명:cluster)를 추가하세요."
   ]
  },
  {
   "cell_type": "code",
   "execution_count": 43,
   "metadata": {
    "executionInfo": {
     "elapsed": 11,
     "status": "ok",
     "timestamp": 1629652923806,
     "user": {
      "displayName": "­정서우(자연과학대학 통계학과)",
      "photoUrl": "",
      "userId": "08205341741282440459"
     },
     "user_tz": -540
    },
    "id": "2qF-jLKahfPe"
   },
   "outputs": [
    {
     "data": {
      "text/html": [
       "<div>\n",
       "<style scoped>\n",
       "    .dataframe tbody tr th:only-of-type {\n",
       "        vertical-align: middle;\n",
       "    }\n",
       "\n",
       "    .dataframe tbody tr th {\n",
       "        vertical-align: top;\n",
       "    }\n",
       "\n",
       "    .dataframe thead th {\n",
       "        text-align: right;\n",
       "    }\n",
       "</style>\n",
       "<table border=\"1\" class=\"dataframe\">\n",
       "  <thead>\n",
       "    <tr style=\"text-align: right;\">\n",
       "      <th></th>\n",
       "      <th>tot_price</th>\n",
       "      <th>visit_count</th>\n",
       "      <th>buy_count</th>\n",
       "      <th>avg_price</th>\n",
       "      <th>cluster</th>\n",
       "    </tr>\n",
       "  </thead>\n",
       "  <tbody>\n",
       "    <tr>\n",
       "      <th>0</th>\n",
       "      <td>5.0</td>\n",
       "      <td>0.2</td>\n",
       "      <td>3.0</td>\n",
       "      <td>1.6</td>\n",
       "      <td>1</td>\n",
       "    </tr>\n",
       "    <tr>\n",
       "      <th>1</th>\n",
       "      <td>5.0</td>\n",
       "      <td>0.4</td>\n",
       "      <td>3.4</td>\n",
       "      <td>1.6</td>\n",
       "      <td>1</td>\n",
       "    </tr>\n",
       "    <tr>\n",
       "      <th>2</th>\n",
       "      <td>5.2</td>\n",
       "      <td>0.2</td>\n",
       "      <td>3.5</td>\n",
       "      <td>1.5</td>\n",
       "      <td>1</td>\n",
       "    </tr>\n",
       "    <tr>\n",
       "      <th>3</th>\n",
       "      <td>5.2</td>\n",
       "      <td>0.2</td>\n",
       "      <td>3.0</td>\n",
       "      <td>1.4</td>\n",
       "      <td>1</td>\n",
       "    </tr>\n",
       "    <tr>\n",
       "      <th>4</th>\n",
       "      <td>4.7</td>\n",
       "      <td>0.2</td>\n",
       "      <td>3.2</td>\n",
       "      <td>1.6</td>\n",
       "      <td>1</td>\n",
       "    </tr>\n",
       "  </tbody>\n",
       "</table>\n",
       "</div>"
      ],
      "text/plain": [
       "   tot_price  visit_count  buy_count  avg_price  cluster\n",
       "0        5.0          0.2        3.0        1.6        1\n",
       "1        5.0          0.4        3.4        1.6        1\n",
       "2        5.2          0.2        3.5        1.5        1\n",
       "3        5.2          0.2        3.0        1.4        1\n",
       "4        4.7          0.2        3.2        1.6        1"
      ]
     },
     "execution_count": 43,
     "metadata": {},
     "output_type": "execute_result"
    }
   ],
   "source": [
    "sales['cluster'] = kmeans.labels_\n",
    "sales.head()"
   ]
  },
  {
   "cell_type": "markdown",
   "metadata": {
    "id": "_mmO5GpXiWPH"
   },
   "source": [
    "# 3) 군집화 시각화\n",
    ": 전체 데이터를 2차원으로 축소한 뒤 시각화하세요."
   ]
  },
  {
   "cell_type": "markdown",
   "metadata": {
    "id": "LysC2L9duAmP"
   },
   "source": [
    "3-1) cluster 변수를 제외한 sales 데이터를 salesDF라는 이름으로 변수에 저장하세요."
   ]
  },
  {
   "cell_type": "code",
   "execution_count": 36,
   "metadata": {
    "id": "aZ58gQTVuTcr"
   },
   "outputs": [
    {
     "data": {
      "text/html": [
       "<div>\n",
       "<style scoped>\n",
       "    .dataframe tbody tr th:only-of-type {\n",
       "        vertical-align: middle;\n",
       "    }\n",
       "\n",
       "    .dataframe tbody tr th {\n",
       "        vertical-align: top;\n",
       "    }\n",
       "\n",
       "    .dataframe thead th {\n",
       "        text-align: right;\n",
       "    }\n",
       "</style>\n",
       "<table border=\"1\" class=\"dataframe\">\n",
       "  <thead>\n",
       "    <tr style=\"text-align: right;\">\n",
       "      <th></th>\n",
       "      <th>tot_price</th>\n",
       "      <th>visit_count</th>\n",
       "      <th>buy_count</th>\n",
       "      <th>avg_price</th>\n",
       "    </tr>\n",
       "  </thead>\n",
       "  <tbody>\n",
       "    <tr>\n",
       "      <th>0</th>\n",
       "      <td>5.0</td>\n",
       "      <td>0.2</td>\n",
       "      <td>3.0</td>\n",
       "      <td>1.6</td>\n",
       "    </tr>\n",
       "    <tr>\n",
       "      <th>1</th>\n",
       "      <td>5.0</td>\n",
       "      <td>0.4</td>\n",
       "      <td>3.4</td>\n",
       "      <td>1.6</td>\n",
       "    </tr>\n",
       "    <tr>\n",
       "      <th>2</th>\n",
       "      <td>5.2</td>\n",
       "      <td>0.2</td>\n",
       "      <td>3.5</td>\n",
       "      <td>1.5</td>\n",
       "    </tr>\n",
       "    <tr>\n",
       "      <th>3</th>\n",
       "      <td>5.2</td>\n",
       "      <td>0.2</td>\n",
       "      <td>3.0</td>\n",
       "      <td>1.4</td>\n",
       "    </tr>\n",
       "    <tr>\n",
       "      <th>4</th>\n",
       "      <td>4.7</td>\n",
       "      <td>0.2</td>\n",
       "      <td>3.2</td>\n",
       "      <td>1.6</td>\n",
       "    </tr>\n",
       "  </tbody>\n",
       "</table>\n",
       "</div>"
      ],
      "text/plain": [
       "   tot_price  visit_count  buy_count  avg_price\n",
       "0        5.0          0.2        3.0        1.6\n",
       "1        5.0          0.4        3.4        1.6\n",
       "2        5.2          0.2        3.5        1.5\n",
       "3        5.2          0.2        3.0        1.4\n",
       "4        4.7          0.2        3.2        1.6"
      ]
     },
     "execution_count": 36,
     "metadata": {},
     "output_type": "execute_result"
    }
   ],
   "source": [
    "salesDF = sales[['tot_price', 'visit_count', 'buy_count', 'avg_price']]\n",
    "salesDF.head()"
   ]
  },
  {
   "cell_type": "markdown",
   "metadata": {
    "id": "7Qx6EpFuvJMz"
   },
   "source": [
    "3-2) salesDF 데이터를 이용하여 2차원으로 차원축소 한 후 그 결과를 sales에 pca_x, pca_y 이름으로 저장하세요."
   ]
  },
  {
   "cell_type": "code",
   "execution_count": 37,
   "metadata": {
    "executionInfo": {
     "elapsed": 413,
     "status": "ok",
     "timestamp": 1629652927408,
     "user": {
      "displayName": "­정서우(자연과학대학 통계학과)",
      "photoUrl": "",
      "userId": "08205341741282440459"
     },
     "user_tz": -540
    },
    "id": "HbdaFWKnlVhF"
   },
   "outputs": [],
   "source": [
    "#차원 축소 한 후 변형된 값 임의의 변수에 저장\n",
    "from sklearn.decomposition import PCA\n",
    "pca = PCA(n_components=2)\n",
    "pca_transformed = pca.fit_transform(sales)\n",
    "\n",
    "#sales에 'pca_x', 'pca_y' 이름으로 열 만들어 저장\n",
    "salesDF['pca_x'] = pca_transformed[:,0]\n",
    "salesDF['pca_y'] = pca_transformed[:,1]"
   ]
  },
  {
   "cell_type": "markdown",
   "metadata": {
    "id": "uSA4KaVcjELK"
   },
   "source": [
    "3-3) pca_x를 x축, pca_y를 y축으로 하여 산점도를 그리세요. 색으로 각 점이 군집에 따라 구분되도록 하세요. (단, 각 군집별로 마커 모양 구분하지 않고 오직 색으로만 구분합니다.)"
   ]
  },
  {
   "cell_type": "code",
   "execution_count": 45,
   "metadata": {
    "executionInfo": {
     "elapsed": 365,
     "status": "ok",
     "timestamp": 1629652930395,
     "user": {
      "displayName": "­정서우(자연과학대학 통계학과)",
      "photoUrl": "",
      "userId": "08205341741282440459"
     },
     "user_tz": -540
    },
    "id": "zi42IlfRjCNP"
   },
   "outputs": [
    {
     "data": {
      "image/png": "[encoded data removed]",
      "text/plain": [
       "<Figure size 432x288 with 1 Axes>"
      ]
     },
     "metadata": {
      "needs_background": "light"
     },
     "output_type": "display_data"
    }
   ],
   "source": [
    "marker0 = salesDF[sales['cluster']==0].index\n",
    "marker1 = salesDF[sales['cluster']==1].index\n",
    "marker2 = salesDF[sales['cluster']==2].index\n",
    "\n",
    "plt.scatter(x=salesDF.loc[marker0, 'pca_x'], y=salesDF.loc[marker0, 'pca_y'])\n",
    "plt.scatter(x=salesDF.loc[marker1, 'pca_x'], y=salesDF.loc[marker1, 'pca_y'])\n",
    "plt.scatter(x=salesDF.loc[marker2, 'pca_x'], y=salesDF.loc[marker2, 'pca_y'])\n",
    "\n",
    "plt.xlabel('PCA 1')\n",
    "plt.xlabel('PCA 2')\n",
    "plt.show()"
   ]
  },
  {
   "cell_type": "markdown",
   "metadata": {
    "id": "ACFmY31zw701"
   },
   "source": [
    "# 4) 군집평가: 실루엣 계수 구하기"
   ]
  },
  {
   "cell_type": "code",
   "execution_count": 47,
   "metadata": {
    "id": "aOVy3VRgxxo3"
   },
   "outputs": [],
   "source": [
    "#시각화를 위하여 사용했던 차원 축소 관련 계수 삭제\n",
    "salesDF=salesDF.drop(['pca_x','pca_y'], axis=1)\n",
    "\n",
    "#cluster 행을 제외한 순수 데이터 sales_data로 저장\n",
    "sales_data=sales.drop('cluster', axis=1)"
   ]
  },
  {
   "cell_type": "markdown",
   "metadata": {
    "id": "MbRL_ERnxKG4"
   },
   "source": [
    "4-1) sales의 모든 데이터에 실루엣 계수를 구하고 실루엣 계수 칼럼을 추가하세요."
   ]
  },
  {
   "cell_type": "code",
   "execution_count": 48,
   "metadata": {
    "executionInfo": {
     "elapsed": 310,
     "status": "ok",
     "timestamp": 1629652934504,
     "user": {
      "displayName": "­정서우(자연과학대학 통계학과)",
      "photoUrl": "",
      "userId": "08205341741282440459"
     },
     "user_tz": -540
    },
    "id": "WguqFEIGnevN"
   },
   "outputs": [],
   "source": [
    "# sales의 모든 데이터에 실루엣 계수 구하기\n",
    "score_sample = silhouette_samples(sales_data, sales['cluster'])"
   ]
  },
  {
   "cell_type": "code",
   "execution_count": 58,
   "metadata": {
    "id": "UtKeaL-kxiiR"
   },
   "outputs": [
    {
     "data": {
      "text/html": [
       "<div>\n",
       "<style scoped>\n",
       "    .dataframe tbody tr th:only-of-type {\n",
       "        vertical-align: middle;\n",
       "    }\n",
       "\n",
       "    .dataframe tbody tr th {\n",
       "        vertical-align: top;\n",
       "    }\n",
       "\n",
       "    .dataframe thead th {\n",
       "        text-align: right;\n",
       "    }\n",
       "</style>\n",
       "<table border=\"1\" class=\"dataframe\">\n",
       "  <thead>\n",
       "    <tr style=\"text-align: right;\">\n",
       "      <th></th>\n",
       "      <th>tot_price</th>\n",
       "      <th>visit_count</th>\n",
       "      <th>buy_count</th>\n",
       "      <th>avg_price</th>\n",
       "      <th>cluster</th>\n",
       "      <th>silhouette_coeff</th>\n",
       "    </tr>\n",
       "  </thead>\n",
       "  <tbody>\n",
       "    <tr>\n",
       "      <th>0</th>\n",
       "      <td>5.0</td>\n",
       "      <td>0.2</td>\n",
       "      <td>3.0</td>\n",
       "      <td>1.6</td>\n",
       "      <td>1</td>\n",
       "      <td>0.791129</td>\n",
       "    </tr>\n",
       "    <tr>\n",
       "      <th>1</th>\n",
       "      <td>5.0</td>\n",
       "      <td>0.4</td>\n",
       "      <td>3.4</td>\n",
       "      <td>1.6</td>\n",
       "      <td>1</td>\n",
       "      <td>0.803393</td>\n",
       "    </tr>\n",
       "    <tr>\n",
       "      <th>2</th>\n",
       "      <td>5.2</td>\n",
       "      <td>0.2</td>\n",
       "      <td>3.5</td>\n",
       "      <td>1.5</td>\n",
       "      <td>1</td>\n",
       "      <td>0.807454</td>\n",
       "    </tr>\n",
       "    <tr>\n",
       "      <th>3</th>\n",
       "      <td>5.2</td>\n",
       "      <td>0.2</td>\n",
       "      <td>3.0</td>\n",
       "      <td>1.4</td>\n",
       "      <td>1</td>\n",
       "      <td>0.788805</td>\n",
       "    </tr>\n",
       "    <tr>\n",
       "      <th>4</th>\n",
       "      <td>4.7</td>\n",
       "      <td>0.2</td>\n",
       "      <td>3.2</td>\n",
       "      <td>1.6</td>\n",
       "      <td>1</td>\n",
       "      <td>0.800702</td>\n",
       "    </tr>\n",
       "  </tbody>\n",
       "</table>\n",
       "</div>"
      ],
      "text/plain": [
       "   tot_price  visit_count  buy_count  avg_price  cluster  silhouette_coeff\n",
       "0        5.0          0.2        3.0        1.6        1          0.791129\n",
       "1        5.0          0.4        3.4        1.6        1          0.803393\n",
       "2        5.2          0.2        3.5        1.5        1          0.807454\n",
       "3        5.2          0.2        3.0        1.4        1          0.788805\n",
       "4        4.7          0.2        3.2        1.6        1          0.800702"
      ]
     },
     "execution_count": 58,
     "metadata": {},
     "output_type": "execute_result"
    }
   ],
   "source": [
    "#sales에 실루엣 계수 칼럼 추가\n",
    "sales['silhouette_coeff'] = score_sample\n",
    "sales.head()"
   ]
  },
  {
   "cell_type": "markdown",
   "metadata": {
    "id": "Unt23NAhyl0W"
   },
   "source": [
    "4-2) 모든 데이터의 평균 실루엣 계수를 구하세요."
   ]
  },
  {
   "cell_type": "code",
   "execution_count": 62,
   "metadata": {
    "executionInfo": {
     "elapsed": 418,
     "status": "ok",
     "timestamp": 1629652936935,
     "user": {
      "displayName": "­정서우(자연과학대학 통계학과)",
      "photoUrl": "",
      "userId": "08205341741282440459"
     },
     "user_tz": -540
    },
    "id": "J51Ao9TiyjpN"
   },
   "outputs": [
    {
     "name": "stdout",
     "output_type": "stream",
     "text": [
      "평균 실루엣 계수 0.666\n"
     ]
    }
   ],
   "source": [
    "#모든 데이터의 평균 실루엣 계수 값을 구하기\n",
    "avg_score = silhouette_score(sales, sales['cluster'])\n",
    "print(\"평균 실루엣 계수 {0:.3f}\".format(avg_score))"
   ]
  },
  {
   "cell_type": "markdown",
   "metadata": {
    "id": "YovPBxuXyxUQ"
   },
   "source": [
    "4-3) 군집별 평균 실루엣 계수를 구하세요."
   ]
  },
  {
   "cell_type": "code",
   "execution_count": 64,
   "metadata": {
    "executionInfo": {
     "elapsed": 12,
     "status": "ok",
     "timestamp": 1629652938353,
     "user": {
      "displayName": "­정서우(자연과학대학 통계학과)",
      "photoUrl": "",
      "userId": "08205341741282440459"
     },
     "user_tz": -540
    },
    "id": "XW6o-x1YysJd"
   },
   "outputs": [
    {
     "data": {
      "text/plain": [
       "cluster\n",
       "0    0.416528\n",
       "1    0.755123\n",
       "2    0.450677\n",
       "Name: silhouette_coeff, dtype: float64"
      ]
     },
     "execution_count": 64,
     "metadata": {},
     "output_type": "execute_result"
    }
   ],
   "source": [
    "#군집별 평균 실루엣 계수 구하기\n",
    "sales.groupby('cluster')['silhouette_coeff'].mean()"
   ]
  }
 ],
 "metadata": {
  "colab": {
   "authorship_tag": "ABX9TyMVu21wDpJx1ooTVRI5nvFH",
   "collapsed_sections": [],
   "name": "군집화.ipynb",
   "provenance": []
  },
  "kernelspec": {
   "display_name": "Python 3",
   "language": "python",
   "name": "python3"
  },
  "language_info": {
   "codemirror_mode": {
    "name": "ipython",
    "version": 3
   },
   "file_extension": ".py",
   "mimetype": "text/x-python",
   "name": "python",
   "nbconvert_exporter": "python",
   "pygments_lexer": "ipython3",
   "version": "3.7.1"
  }
 },
 "nbformat": 4,
 "nbformat_minor": 1
}
