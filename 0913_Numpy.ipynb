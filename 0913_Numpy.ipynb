{
 "cells": [
  {
   "cell_type": "code",
   "execution_count": 5,
   "metadata": {},
   "outputs": [],
   "source": [
    "#ndarray 개요\n",
    "import numpy as np"
   ]
  },
  {
   "cell_type": "code",
   "execution_count": 6,
   "metadata": {},
   "outputs": [
    {
     "name": "stdout",
     "output_type": "stream",
     "text": [
      "array1 :  [1 2 3 4 5 6 7 8 9]\n"
     ]
    }
   ],
   "source": [
    "#Indexing\n",
    "array1 = np.arange(start=1,stop=10)\n",
    "print(\"array1 : \",array1) #1차원 ndarray가 9개"
   ]
  },
  {
   "cell_type": "code",
   "execution_count": 49,
   "metadata": {},
   "outputs": [
    {
     "name": "stdout",
     "output_type": "stream",
     "text": [
      "3번째 Index : array1[2] = 3\n",
      "맨 뒤 Index : array1[-1] = 9\n",
      "* 단일값 type :  <class 'numpy.int32'>\n"
     ]
    }
   ],
   "source": [
    "#단일값\n",
    "print(\"3번째 Index : array1[2] =\",array1[2])\n",
    "print(\"맨 뒤 Index : array1[-1] =\",array1[-1])\n",
    "print(\"* 단일값 type : \",type(array1[1]))"
   ]
  },
  {
   "cell_type": "code",
   "execution_count": 17,
   "metadata": {},
   "outputs": [
    {
     "name": "stdout",
     "output_type": "stream",
     "text": [
      "3X3차원 : \n",
      " [[1 2 3]\n",
      " [4 5 6]\n",
      " [7 8 9]]\n",
      "row=0,col=0 index = 1\n",
      "row=1,col=2 index = 6\n",
      "row=2,col=2 index =  9\n"
     ]
    }
   ],
   "source": [
    "#++차원변환++\n",
    "array1d = array1.reshape(3,3)\n",
    "print(\"3X3차원 : \\n\",array1d)\n",
    "print(\"row=0,col=0 index =\",array1d[0,0])\n",
    "print(\"row=1,col=2 index =\",array1d[1,2])\n",
    "print(\"row=2,col=2 index =\",array1d[2,2])"
   ]
  },
  {
   "cell_type": "code",
   "execution_count": 48,
   "metadata": {},
   "outputs": [
    {
     "name": "stdout",
     "output_type": "stream",
     "text": [
      "인덱스 0~3 : array1[:3] = [1 2 3]\n",
      "인덱스 3~ : array1[3:] = [4 5 6 7 8 9]\n",
      "인덱스 처음~끝 : array[:] = [1 2 3 4 5 6 7 8 9]\n",
      "* 슬라이싱 type : <class 'numpy.ndarray'>\n"
     ]
    }
   ],
   "source": [
    "#슬라이싱\n",
    "print(\"인덱스 0~3 : array1[:3] =\",array1[:3])\n",
    "print(\"인덱스 3~ : array1[3:] =\",array1[3:])\n",
    "print(\"인덱스 처음~끝 : array[:] =\",array1[:])\n",
    "print(\"* 슬라이싱 type :\",type(array1[:3]))"
   ]
  },
  {
   "cell_type": "code",
   "execution_count": 47,
   "metadata": {},
   "outputs": [
    {
     "name": "stdout",
     "output_type": "stream",
     "text": [
      "* 기본 :\n",
      " [[1 2 3]\n",
      " [4 5 6]\n",
      " [7 8 9]]\n",
      "펜시 인덱싱 array2[[0,1],2] = [3, 6]\n",
      "펜시 인덱싱 array2[[0,1],0:2] = [[1, 2], [4, 5]]\n",
      "펜시 인덱싱 array2[0,1] = [[1, 2, 3], [4, 5, 6]]\n"
     ]
    }
   ],
   "source": [
    "#펜시 인덱싱 Fancy Indexing\n",
    "array2 = array1.reshape(3,3) #3X3으로 차원변환\n",
    "print(\"* 기본 :\\n\",array2)\n",
    "print(\"펜시 인덱싱 array2[[0,1],2] =\",array2[[0,1],2].tolist())\n",
    "print(\"펜시 인덱싱 array2[[0,1],0:2] =\",array2[[0,1],0:2].tolist())\n",
    "print(\"펜시 인덱싱 array2[0,1] =\",array2[[0,1]].tolist())"
   ]
  },
  {
   "cell_type": "code",
   "execution_count": 46,
   "metadata": {},
   "outputs": [
    {
     "name": "stdout",
     "output_type": "stream",
     "text": [
      "불린 인덱싱 array1 > 5 : [6 7 8 9]\n",
      "조건 할당 : [False False False False False  True  True  True  True]\n",
      ">> array1에 인덱스 필터링 : [6 7 8 9]\n",
      ">> 값 일치? [ True  True  True  True]\n"
     ]
    }
   ],
   "source": [
    "#불린 인덱싱 Boolean indexing\n",
    "print(\"불린 인덱싱 array1 > 5 :\",array1[array1>5])\n",
    "array3 = array1 > 5\n",
    "print(\"조건 할당 :\",array3)\n",
    "print(\">> array1에 인덱스 필터링 :\",array1[array3])\n",
    "print(\">> 값 일치?\",array1[array1>5]==array1[array3])"
   ]
  }
 ],
 "metadata": {
  "kernelspec": {
   "display_name": "Python 3",
   "language": "python",
   "name": "python3"
  },
  "language_info": {
   "codemirror_mode": {
    "name": "ipython",
    "version": 3
   },
   "file_extension": ".py",
   "mimetype": "text/x-python",
   "name": "python",
   "nbconvert_exporter": "python",
   "pygments_lexer": "ipython3",
   "version": "3.7.1"
  }
 },
 "nbformat": 4,
 "nbformat_minor": 2
}
