{
 "cells": [
  {
   "cell_type": "code",
   "execution_count": 1,
   "metadata": {
    "id": "4Zqc4O_BfWqZ"
   },
   "outputs": [],
   "source": [
    "# 모듈 및 데이터 로드 \n",
    "from sklearn.datasets import load_breast_cancer \n",
    "from sklearn.linear_model import LogisticRegression \n",
    "\n",
    "data = load_breast_cancer() \n",
    "\n",
    "# x, y 데이터 생성 \n",
    "X = data.data \n",
    "\n",
    "# 악성을 1, 양성을 0으로 \n",
    "y = 1 - data.target \n",
    "\n",
    "# 특징으로 사용할 데이터를 평균으로 구분하는 10개 열로 축소\n",
    "X = X[:, :10] \n",
    "\n",
    "# 로지스틱 회귀 모델 생성 \n",
    "model_lor = LogisticRegression(solver = 'lbfgs') \n",
    "model_lor.fit(X,y) \n",
    "y_pred = model_lor.predict(X)"
   ]
  },
  {
   "cell_type": "markdown",
   "metadata": {
    "id": "faoAfc1ZgAcq"
   },
   "source": [
    "* 오차 행렬(혼동 행렬) 생성"
   ]
  },
  {
   "cell_type": "code",
   "execution_count": 14,
   "metadata": {
    "id": "JdML8YM0gBtu",
    "scrolled": true
   },
   "outputs": [
    {
     "name": "stdout",
     "output_type": "stream",
     "text": [
      "오차행렬 : \n",
      " [[337  20]\n",
      " [ 30 182]]\n",
      "TN(true negative) = 337\n",
      "TP(true positive) = 182\n",
      "FN(false negative) = 30\n",
      "FP(flase positive) = 20\n"
     ]
    }
   ],
   "source": [
    "# 종속 변수와 예측 결과로 혼동 행렬 생성\n",
    "from sklearn.metrics import confusion_matrix\n",
    "\n",
    "cm = confusion_matrix(y,y_pred)\n",
    "print(\"오차행렬 : \\n\",cm)\n",
    "\n",
    "print(\"TN(true negative) =\",cm[0,0])\n",
    "print(\"TP(true positive) =\",cm[1,1])\n",
    "print(\"FN(false negative) =\",cm[1,0])\n",
    "print(\"FP(flase positive) =\",cm[0,1])"
   ]
  },
  {
   "cell_type": "markdown",
   "metadata": {
    "id": "xbcK3rT-gFRk"
   },
   "source": [
    "* 정확도"
   ]
  },
  {
   "cell_type": "code",
   "execution_count": 15,
   "metadata": {
    "id": "NLiXFuYvgI1e"
   },
   "outputs": [
    {
     "name": "stdout",
     "output_type": "stream",
     "text": [
      "정확도 : 0.9121265377855887\n"
     ]
    }
   ],
   "source": [
    "from sklearn.metrics import accuracy_score, precision_score, recall_score, confusion_matrix\n",
    "\n",
    "accuracy = accuracy_score(y,y_pred)\n",
    "\n",
    "print(\"정확도 :\",accuracy)"
   ]
  },
  {
   "cell_type": "markdown",
   "metadata": {
    "id": "UYnVZS9igNNf"
   },
   "source": [
    "* 정밀도"
   ]
  },
  {
   "cell_type": "code",
   "execution_count": 16,
   "metadata": {
    "id": "j108NueLgMKF"
   },
   "outputs": [
    {
     "name": "stdout",
     "output_type": "stream",
     "text": [
      "정밀도 : 0.900990099009901\n"
     ]
    }
   ],
   "source": [
    "precision = precision_score(y,y_pred)\n",
    "\n",
    "print(\"정밀도 :\",precision)"
   ]
  },
  {
   "cell_type": "markdown",
   "metadata": {
    "id": "2-MBquNJZOM4"
   },
   "source": [
    "* 재현율"
   ]
  },
  {
   "cell_type": "code",
   "execution_count": 17,
   "metadata": {
    "id": "uje4ivPvZPwv"
   },
   "outputs": [
    {
     "name": "stdout",
     "output_type": "stream",
     "text": [
      "재현율 : 0.8584905660377359\n"
     ]
    }
   ],
   "source": [
    "recall = recall_score(y,y_pred)\n",
    "\n",
    "print(\"재현율 :\",recall)"
   ]
  },
  {
   "cell_type": "markdown",
   "metadata": {
    "id": "Cw1p3yjagUCH"
   },
   "source": [
    "* F1 score"
   ]
  },
  {
   "cell_type": "code",
   "execution_count": 18,
   "metadata": {
    "id": "hPdtYdoDgYgV"
   },
   "outputs": [
    {
     "name": "stdout",
     "output_type": "stream",
     "text": [
      "F1스코어 : 0.8792270531400966\n"
     ]
    }
   ],
   "source": [
    "from sklearn.metrics import f1_score\n",
    "f1 = f1_score(y,y_pred)\n",
    "\n",
    "print(\"F1스코어 :\",f1)"
   ]
  },
  {
   "cell_type": "markdown",
   "metadata": {
    "id": "fzwIFsKOW5a1"
   },
   "source": [
    "* 예측 확률(pred_proba) : 0으로 예측할 확률이 0.1보다 크면 y_pred2 에 넣는다 가정."
   ]
  },
  {
   "cell_type": "code",
   "execution_count": 33,
   "metadata": {
    "id": "nw9dxOiPW40l"
   },
   "outputs": [],
   "source": [
    "from sklearn.preprocessing import Binarizer\n",
    "\n",
    "pred_proba = model_lor.predict_proba(X)\n",
    "pred_proba2 = pred_proba[:,1].reshape(-1,1)\n",
    "\n",
    "y_pred2 = Binarizer(threshold=0.1).fit_transform(pred_proba2)"
   ]
  },
  {
   "cell_type": "code",
   "execution_count": 31,
   "metadata": {
    "id": "Y-WrHrICYFB1"
   },
   "outputs": [
    {
     "name": "stdout",
     "output_type": "stream",
     "text": [
      "오차행렬 : \n",
      " [[267  90]\n",
      " [  6 206]]\n",
      "정확도 : 0.8312829525483304\n",
      "정밀도 : 0.6959459459459459\n",
      "재현율 : 0.9716981132075472\n",
      "F1스코어 : 0.8110236220472441\n"
     ]
    }
   ],
   "source": [
    "# y과 y_pred2의 혼동행렬, 정확도, 정밀도, 재현율, f1 score 구하기\n",
    "\n",
    "# 혼동행렬\n",
    "cm2 = confusion_matrix(y,y_pred2)\n",
    "print(\"오차행렬 : \\n\",cm2)\n",
    "\n",
    "#정확도\n",
    "accuracy2 = accuracy_score(y,y_pred2)\n",
    "print(\"정확도 :\",accuracy2)\n",
    "\n",
    "#정밀도\n",
    "precision2 = precision_score(y,y_pred2)\n",
    "print(\"정밀도 :\",precision2)\n",
    "\n",
    "#재현율\n",
    "recall2 = recall_score(y,y_pred2)\n",
    "print(\"재현율 :\",recall2)\n",
    "\n",
    "#f1 score\n",
    "f12 = f1_score(y,y_pred2)\n",
    "print(\"F1스코어 :\",f12)"
   ]
  },
  {
   "cell_type": "markdown",
   "metadata": {
    "id": "itgf_OjsjU-R"
   },
   "source": [
    "* ROC 곡선 시각화"
   ]
  },
  {
   "cell_type": "code",
   "execution_count": 48,
   "metadata": {
    "id": "CSJ69SGJVh7m"
   },
   "outputs": [
    {
     "data": {
      "image/png": "[encoded data removed]",
      "text/plain": [
       "<Figure size 432x288 with 1 Axes>"
      ]
     },
     "metadata": {
      "needs_background": "light"
     },
     "output_type": "display_data"
    }
   ],
   "source": [
    "from sklearn.metrics import roc_curve \n",
    "\n",
    "import matplotlib.pyplot as plt\n",
    "import numpy as np\n",
    "\n",
    "def roc_curve_plot(y_test,pred_proba_c1):\n",
    "    fprs,tprs,thresholds = roc_curve(y_test,pred_proba_c1)\n",
    "    plt.plot(fprs,tprs,label='ROC')\n",
    "    plt.plot([0,1],[0,1],'k--',label='Random')\n",
    "    \n",
    "    start, end = plt.xlim()\n",
    "    plt.xticks(np.round(np.arange(start,end,0.1),2))\n",
    "    plt.xlim(0,1)\n",
    "    plt.ylim(0,1)\n",
    "    plt.xlabel('FPR(1-Sensitivity)')\n",
    "    plt.ylabel('TRP(Recall)')\n",
    "    plt.legend()\n",
    "\n",
    "roc_curve_plot(y,pred_proba2)"
   ]
  },
  {
   "cell_type": "markdown",
   "metadata": {
    "id": "fL4as0YsWYD7"
   },
   "source": [
    "* ROC AUC 값"
   ]
  },
  {
   "cell_type": "code",
   "execution_count": 53,
   "metadata": {
    "id": "-SEElVZTWaVp"
   },
   "outputs": [
    {
     "name": "stdout",
     "output_type": "stream",
     "text": [
      "ROC AUC값 : 0.9012340785370753\n"
     ]
    }
   ],
   "source": [
    "from sklearn.metrics import roc_auc_score\n",
    "\n",
    "roc_auc = roc_auc_score(y,y_pred)\n",
    "\n",
    "print(\"ROC AUC값 :\",roc_auc)"
   ]
  }
 ],
 "metadata": {
  "colab": {
   "collapsed_sections": [],
   "name": "평가.ipynb",
   "provenance": []
  },
  "kernelspec": {
   "display_name": "Python 3",
   "language": "python",
   "name": "python3"
  },
  "language_info": {
   "codemirror_mode": {
    "name": "ipython",
    "version": 3
   },
   "file_extension": ".py",
   "mimetype": "text/x-python",
   "name": "python",
   "nbconvert_exporter": "python",
   "pygments_lexer": "ipython3",
   "version": "3.7.1"
  }
 },
 "nbformat": 4,
 "nbformat_minor": 1
}
